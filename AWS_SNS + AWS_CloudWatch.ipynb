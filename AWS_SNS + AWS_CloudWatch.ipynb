{
 "cells": [
  {
   "cell_type": "code",
   "execution_count": 1,
   "metadata": {},
   "outputs": [],
   "source": [
    "#AWS的python SDK，可以用python來對AWS的資源操作\n",
    "import boto3 \n",
    "import time"
   ]
  },
  {
   "cell_type": "code",
   "execution_count": 5,
   "metadata": {},
   "outputs": [
    {
     "name": "stdout",
     "output_type": "stream",
     "text": [
      "{\"notification\":{\"messageId\":\"f0990fe2-4ca0-5867-831c-5763e088ea16\",\"timestamp\":\"2021-01-20 03:56:24.838\"},\"delivery\":{\"phoneCarrier\":\"Chunghwa Telecom LDM\",\"mnc\":92,\"numberOfMessageParts\":1,\"destination\":\"+88693432089\",\"priceInUSD\":0.05221,\"smsType\":\"Promotional\",\"mcc\":466,\"providerResponse\":\"Unknown error attempting to reach phone\",\"dwellTimeMs\":344,\"dwellTimeMsUntilDeviceAck\":1392},\"status\":\"FAILURE\"}\n"
     ]
    }
   ],
   "source": [
    "#用AWS CloudWatch獲取SNS發送之後的logs訊息\n",
    "clw = boto3.client('logs', region_name=\"******\", aws_access_key_id='AK***********J3', aws_secret_access_key='************dmno*********dP********L+')\n",
    "\n",
    "phone='+88693432089'\n",
    "fail_response = clw.filter_log_events(\n",
    "    logGroupName='sns/us-west-2/*********/DirectPublishToPhoneNumber/Failure',\n",
    "    filterPattern='{$.delivery.destination = \"%s\"}' %(phone), #用filterPattern的參數來篩選查詢events中的特定訊息\n",
    "    limit=1 #回傳一筆(如果有多筆則回傳最新的一筆log)\n",
    ")\n",
    "\n",
    "fail_time = fail_response['events'][0]['timestamp']\n",
    "message = fail_response['events'][0]['message']\n",
    "print(message)\n"
   ]
  }
 ],
 "metadata": {
  "kernelspec": {
   "display_name": "Python 3",
   "language": "python",
   "name": "python3"
  },
  "language_info": {
   "codemirror_mode": {
    "name": "ipython",
    "version": 3
   },
   "file_extension": ".py",
   "mimetype": "text/x-python",
   "name": "python",
   "nbconvert_exporter": "python",
   "pygments_lexer": "ipython3",
   "version": "3.7.6"
  }
 },
 "nbformat": 4,
 "nbformat_minor": 4
}
